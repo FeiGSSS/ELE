{
 "cells": [
  {
   "cell_type": "code",
   "execution_count": 6,
   "metadata": {},
   "outputs": [],
   "source": [
    "import pickle as pkl\n",
    "import numpy as np\n",
    "import matplotlib.pyplot as plt"
   ]
  },
  {
   "cell_type": "code",
   "execution_count": 43,
   "metadata": {},
   "outputs": [],
   "source": [
    "with open(\"results/er_results.pkl\", \"rb\") as f:\n",
    "    er = pkl.load(f)"
   ]
  },
  {
   "cell_type": "code",
   "execution_count": 44,
   "metadata": {},
   "outputs": [],
   "source": [
    "x = er[\"beta\"]\n",
    "ele = er[\"ele\"]\n",
    "mmca = er[\"mmca\"]"
   ]
  },
  {
   "cell_type": "code",
   "execution_count": 50,
   "metadata": {},
   "outputs": [
    {
     "data": {
      "image/png": "[encoded data removed]",
      "text/plain": [
       "<Figure size 504x288 with 1 Axes>"
      ]
     },
     "metadata": {
      "needs_background": "light"
     },
     "output_type": "display_data"
    }
   ],
   "source": [
    "plt.figure(figsize=(7, 4))\n",
    "plt.semilogx(x, ele, \"k-\")\n",
    "plt.semilogx(x, mmca, \"k--\")\n",
    "plt.semilogx(x, mf)\n",
    "plt.show()"
   ]
  },
  {
   "cell_type": "code",
   "execution_count": 46,
   "metadata": {},
   "outputs": [],
   "source": [
    "def get_rho_MF(b1, b2, k1, k2, gamma):\n",
    "    a = b1**2 * k1 * (k1-1) / 2 - b2*k2\n",
    "    b = b2*k2 - b1*k1 -b1**2 * k1 * (k1-1) / 2\n",
    "    c = b1*k1 - gamma\n",
    "    rho1 = (lD-l + np.sqrt((l-lD)**2 - 4.*lD*(1-l)))/(2*lD)\n",
    "    if rho1>0: \n",
    "        return rho1\n",
    "    else:\n",
    "        return 0"
   ]
  },
  {
   "cell_type": "code",
   "execution_count": 48,
   "metadata": {},
   "outputs": [
    {
     "name": "stdout",
     "output_type": "stream",
     "text": [
      "0.4765969408345688 2.5\n",
      "0.5260274323781207 2.5\n",
      "0.5805846322256721 2.5\n",
      "0.6408002595087453 2.5\n",
      "0.7072611808761523 2.5\n",
      "0.7806151301464989 2.5\n",
      "0.8615770211773285 2.5\n",
      "0.950935915476668 2.5\n",
      "1.0495627124639053 2.5\n",
      "1.1584186373299497 2.5\n",
      "1.278564609220078 2.5\n",
      "1.4111715810425753 2.5\n",
      "1.557531951675836 2.5\n",
      "1.719072161798268 2.5\n",
      "1.8973665961010273 2.5\n",
      "2.0941529273757475 2.5\n",
      "2.3113490520220505 2.5\n",
      "2.5510717820297337 2.5\n",
      "2.815657475609301 2.5\n",
      "3.1076848075387256 2.5\n",
      "3.4299999011481694 2.5\n",
      "3.785744066881158 2.5\n",
      "4.17838441777459 2.5\n",
      "4.611747660238643 2.5\n",
      "5.09005738946443 2.5\n",
      "5.617975252943648 2.5\n",
      "6.2006463832833365 2.5\n",
      "6.843749543107924 2.5\n",
      "7.553552470765 2.5\n",
      "8.336972966238823 2.5\n",
      "9.201646312620069 2.5\n",
      "10.155999690227251 2.5\n",
      "11.20933430862622 2.5\n",
      "12.37191605701332 2.5\n",
      "13.655075556448725 2.5\n",
      "15.071318589057476 2.5\n",
      "16.63444798045064 2.5\n",
      "18.359698123243167 2.5\n",
      "20.26388345274605 2.5\n",
      "22.36556232188964 2.5\n",
      "24.685217872517054 2.5\n",
      "27.245457665834845 2.5\n",
      "30.071234017636332 2.5\n",
      "33.19008718570336 2.5\n",
      "36.63241377951196 2.5\n",
      "40.43176300818566 2.5\n",
      "44.625163653954274 2.5\n",
      "49.25348495782952 2.5\n",
      "54.36183493472022 2.5\n"
     ]
    },
    {
     "name": "stderr",
     "output_type": "stream",
     "text": [
      "/tmp/ipykernel_51207/714190877.py:2: RuntimeWarning: invalid value encountered in sqrt\n",
      "  rho1 = (lD-l + np.sqrt((l-lD)**2 - 4.*lD*(1-l)))/(2*lD)\n"
     ]
    }
   ],
   "source": [
    "mf = []\n",
    "lD = 0.1*5/0.2\n",
    "for b in x:\n",
    "    l = b*12/0.2\n",
    "    print(l, lD)\n",
    "    mf.append(get_rho_MF(l, lD))\n",
    "    "
   ]
  },
  {
   "cell_type": "code",
   "execution_count": 49,
   "metadata": {},
   "outputs": [
    {
     "data": {
      "text/plain": [
       "[0,\n",
       " 0,\n",
       " 0,\n",
       " 0,\n",
       " 0.4656036898363811,\n",
       " 0.5185120943956743,\n",
       " 0.555737227348337,\n",
       " 0.5861429595041873,\n",
       " 0.6125402726423401,\n",
       " 0.63623076944671,\n",
       " 0.6579318777631101,\n",
       " 0.6780813640090972,\n",
       " 0.6969644756491218,\n",
       " 0.7147755749430589,\n",
       " 0.7316513155476996,\n",
       " 0.7476899654492807,\n",
       " 0.7629633852063116,\n",
       " 0.7775248427511608,\n",
       " 0.7914143350827239,\n",
       " 0.8046623453522985,\n",
       " 0.8172925758599107,\n",
       " 0.829323983785882,\n",
       " 0.8407723237052076,\n",
       " 0.851651327966264,\n",
       " 0.8619736115245844,\n",
       " 0.8717513602125333,\n",
       " 0.8809968441240865,\n",
       " 0.8897227869222448,\n",
       " 0.8979426150570002,\n",
       " 0.9056706066047735,\n",
       " 0.912921956720346,\n",
       " 0.9197127748762668,\n",
       " 0.9260600277203868,\n",
       " 0.9319814402324376,\n",
       " 0.9374953667397478,\n",
       " 0.942620642176017,\n",
       " 0.9473764227091387,\n",
       " 0.9517820235368234,\n",
       " 0.9558567602879968,\n",
       " 0.9596197991197684,\n",
       " 0.9630900193115444,\n",
       " 0.9662858909708113,\n",
       " 0.9692253694110271,\n",
       " 0.9719258068609491,\n",
       " 0.9744038814252847,\n",
       " 0.9766755426375753,\n",
       " 0.9787559725179833,\n",
       " 0.9806595607563253,\n",
       " 0.9823998924654476]"
      ]
     },
     "execution_count": 49,
     "metadata": {},
     "output_type": "execute_result"
    }
   ],
   "source": [
    "mf"
   ]
  },
  {
   "cell_type": "code",
   "execution_count": null,
   "metadata": {},
   "outputs": [],
   "source": []
  }
 ],
 "metadata": {
  "interpreter": {
   "hash": "0aa4ffd2cdc43ccd7be2cda3087b8a15af8f1371944ae8b74401d9c9ac43ab2f"
  },
  "kernelspec": {
   "display_name": "Python 3.8.11 ('default')",
   "language": "python",
   "name": "python3"
  },
  "language_info": {
   "codemirror_mode": {
    "name": "ipython",
    "version": 3
   },
   "file_extension": ".py",
   "mimetype": "text/x-python",
   "name": "python",
   "nbconvert_exporter": "python",
   "pygments_lexer": "ipython3",
   "version": "3.8.11"
  },
  "orig_nbformat": 4
 },
 "nbformat": 4,
 "nbformat_minor": 2
}
